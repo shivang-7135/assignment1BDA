{
 "cells": [
  {
   "cell_type": "code",
   "execution_count": 28,
   "id": "3287e9f2-72c9-4954-b598-32fa2d652d85",
   "metadata": {},
   "outputs": [],
   "source": [
    "import pandas as pd\n",
    "import numpy as np\n",
    "import matplotlib.pyplot as plt"
   ]
  },
  {
   "cell_type": "code",
   "execution_count": 29,
   "id": "e4128b99-6e80-4b5c-a4a2-80d3f9ba0832",
   "metadata": {},
   "outputs": [],
   "source": [
    "data = pd.read_csv('/Users/shivangsinha/Desktop/assignment 1 BDA/publications.csv')\n"
   ]
  },
  {
   "cell_type": "code",
   "execution_count": 30,
   "id": "1f228f06-af06-4acf-ac39-3cca32a4656a",
   "metadata": {},
   "outputs": [
    {
     "data": {
      "text/html": [
       "<div>\n",
       "<style scoped>\n",
       "    .dataframe tbody tr th:only-of-type {\n",
       "        vertical-align: middle;\n",
       "    }\n",
       "\n",
       "    .dataframe tbody tr th {\n",
       "        vertical-align: top;\n",
       "    }\n",
       "\n",
       "    .dataframe thead th {\n",
       "        text-align: right;\n",
       "    }\n",
       "</style>\n",
       "<table border=\"1\" class=\"dataframe\">\n",
       "  <thead>\n",
       "    <tr style=\"text-align: right;\">\n",
       "      <th></th>\n",
       "      <th>#PERSON_ID</th>\n",
       "      <th>NUMBER_PUBLICATIONS</th>\n",
       "    </tr>\n",
       "  </thead>\n",
       "  <tbody>\n",
       "    <tr>\n",
       "      <th>0</th>\n",
       "      <td>123/1810</td>\n",
       "      <td>1</td>\n",
       "    </tr>\n",
       "    <tr>\n",
       "      <th>1</th>\n",
       "      <td>264/8251</td>\n",
       "      <td>2</td>\n",
       "    </tr>\n",
       "    <tr>\n",
       "      <th>2</th>\n",
       "      <td>251/2963</td>\n",
       "      <td>1</td>\n",
       "    </tr>\n",
       "    <tr>\n",
       "      <th>3</th>\n",
       "      <td>08/6448</td>\n",
       "      <td>12</td>\n",
       "    </tr>\n",
       "    <tr>\n",
       "      <th>4</th>\n",
       "      <td>143/5209</td>\n",
       "      <td>1</td>\n",
       "    </tr>\n",
       "    <tr>\n",
       "      <th>...</th>\n",
       "      <td>...</td>\n",
       "      <td>...</td>\n",
       "    </tr>\n",
       "    <tr>\n",
       "      <th>1538268</th>\n",
       "      <td>277/4829</td>\n",
       "      <td>2</td>\n",
       "    </tr>\n",
       "    <tr>\n",
       "      <th>1538269</th>\n",
       "      <td>184/0485</td>\n",
       "      <td>1</td>\n",
       "    </tr>\n",
       "    <tr>\n",
       "      <th>1538270</th>\n",
       "      <td>63/4648</td>\n",
       "      <td>30</td>\n",
       "    </tr>\n",
       "    <tr>\n",
       "      <th>1538271</th>\n",
       "      <td>181/1833</td>\n",
       "      <td>3</td>\n",
       "    </tr>\n",
       "    <tr>\n",
       "      <th>1538272</th>\n",
       "      <td>34/6410</td>\n",
       "      <td>1</td>\n",
       "    </tr>\n",
       "  </tbody>\n",
       "</table>\n",
       "<p>1538273 rows × 2 columns</p>\n",
       "</div>"
      ],
      "text/plain": [
       "        #PERSON_ID  NUMBER_PUBLICATIONS\n",
       "0         123/1810                    1\n",
       "1         264/8251                    2\n",
       "2         251/2963                    1\n",
       "3          08/6448                   12\n",
       "4         143/5209                    1\n",
       "...            ...                  ...\n",
       "1538268   277/4829                    2\n",
       "1538269   184/0485                    1\n",
       "1538270    63/4648                   30\n",
       "1538271   181/1833                    3\n",
       "1538272    34/6410                    1\n",
       "\n",
       "[1538273 rows x 2 columns]"
      ]
     },
     "execution_count": 30,
     "metadata": {},
     "output_type": "execute_result"
    }
   ],
   "source": [
    "data"
   ]
  },
  {
   "cell_type": "code",
   "execution_count": 31,
   "id": "0b19063c-8232-4b1d-92f5-6930cec325b2",
   "metadata": {},
   "outputs": [
    {
     "data": {
      "text/html": [
       "<div>\n",
       "<style scoped>\n",
       "    .dataframe tbody tr th:only-of-type {\n",
       "        vertical-align: middle;\n",
       "    }\n",
       "\n",
       "    .dataframe tbody tr th {\n",
       "        vertical-align: top;\n",
       "    }\n",
       "\n",
       "    .dataframe thead th {\n",
       "        text-align: right;\n",
       "    }\n",
       "</style>\n",
       "<table border=\"1\" class=\"dataframe\">\n",
       "  <thead>\n",
       "    <tr style=\"text-align: right;\">\n",
       "      <th></th>\n",
       "      <th>#PERSON_ID</th>\n",
       "      <th>NUMBER_PUBLICATIONS</th>\n",
       "    </tr>\n",
       "  </thead>\n",
       "  <tbody>\n",
       "    <tr>\n",
       "      <th>0</th>\n",
       "      <td>123/1810</td>\n",
       "      <td>1</td>\n",
       "    </tr>\n",
       "    <tr>\n",
       "      <th>1</th>\n",
       "      <td>264/8251</td>\n",
       "      <td>2</td>\n",
       "    </tr>\n",
       "    <tr>\n",
       "      <th>2</th>\n",
       "      <td>251/2963</td>\n",
       "      <td>1</td>\n",
       "    </tr>\n",
       "    <tr>\n",
       "      <th>3</th>\n",
       "      <td>08/6448</td>\n",
       "      <td>12</td>\n",
       "    </tr>\n",
       "    <tr>\n",
       "      <th>4</th>\n",
       "      <td>143/5209</td>\n",
       "      <td>1</td>\n",
       "    </tr>\n",
       "  </tbody>\n",
       "</table>\n",
       "</div>"
      ],
      "text/plain": [
       "  #PERSON_ID  NUMBER_PUBLICATIONS\n",
       "0   123/1810                    1\n",
       "1   264/8251                    2\n",
       "2   251/2963                    1\n",
       "3    08/6448                   12\n",
       "4   143/5209                    1"
      ]
     },
     "execution_count": 31,
     "metadata": {},
     "output_type": "execute_result"
    }
   ],
   "source": [
    "data.head()"
   ]
  },
  {
   "cell_type": "code",
   "execution_count": 32,
   "id": "62074773-b94b-4d44-857b-15fc7dcea70f",
   "metadata": {},
   "outputs": [
    {
     "name": "stdout",
     "output_type": "stream",
     "text": [
      "<class 'pandas.core.frame.DataFrame'>\n",
      "RangeIndex: 1538273 entries, 0 to 1538272\n",
      "Data columns (total 2 columns):\n",
      " #   Column               Non-Null Count    Dtype \n",
      "---  ------               --------------    ----- \n",
      " 0   #PERSON_ID           1538264 non-null  object\n",
      " 1   NUMBER_PUBLICATIONS  1538273 non-null  int64 \n",
      "dtypes: int64(1), object(1)\n",
      "memory usage: 23.5+ MB\n"
     ]
    }
   ],
   "source": [
    "data.info()"
   ]
  },
  {
   "cell_type": "code",
   "execution_count": 33,
   "id": "4f5b9d5d-62f9-4275-bd91-a9f2003320a7",
   "metadata": {},
   "outputs": [
    {
     "data": {
      "text/html": [
       "<div>\n",
       "<style scoped>\n",
       "    .dataframe tbody tr th:only-of-type {\n",
       "        vertical-align: middle;\n",
       "    }\n",
       "\n",
       "    .dataframe tbody tr th {\n",
       "        vertical-align: top;\n",
       "    }\n",
       "\n",
       "    .dataframe thead th {\n",
       "        text-align: right;\n",
       "    }\n",
       "</style>\n",
       "<table border=\"1\" class=\"dataframe\">\n",
       "  <thead>\n",
       "    <tr style=\"text-align: right;\">\n",
       "      <th></th>\n",
       "      <th>NUMBER_PUBLICATIONS</th>\n",
       "    </tr>\n",
       "  </thead>\n",
       "  <tbody>\n",
       "    <tr>\n",
       "      <th>count</th>\n",
       "      <td>1.538273e+06</td>\n",
       "    </tr>\n",
       "    <tr>\n",
       "      <th>mean</th>\n",
       "      <td>1.150170e+01</td>\n",
       "    </tr>\n",
       "    <tr>\n",
       "      <th>std</th>\n",
       "      <td>3.563888e+01</td>\n",
       "    </tr>\n",
       "    <tr>\n",
       "      <th>min</th>\n",
       "      <td>-1.000000e+00</td>\n",
       "    </tr>\n",
       "    <tr>\n",
       "      <th>25%</th>\n",
       "      <td>1.000000e+00</td>\n",
       "    </tr>\n",
       "    <tr>\n",
       "      <th>50%</th>\n",
       "      <td>2.000000e+00</td>\n",
       "    </tr>\n",
       "    <tr>\n",
       "      <th>75%</th>\n",
       "      <td>6.000000e+00</td>\n",
       "    </tr>\n",
       "    <tr>\n",
       "      <th>max</th>\n",
       "      <td>2.211000e+03</td>\n",
       "    </tr>\n",
       "  </tbody>\n",
       "</table>\n",
       "</div>"
      ],
      "text/plain": [
       "       NUMBER_PUBLICATIONS\n",
       "count         1.538273e+06\n",
       "mean          1.150170e+01\n",
       "std           3.563888e+01\n",
       "min          -1.000000e+00\n",
       "25%           1.000000e+00\n",
       "50%           2.000000e+00\n",
       "75%           6.000000e+00\n",
       "max           2.211000e+03"
      ]
     },
     "execution_count": 33,
     "metadata": {},
     "output_type": "execute_result"
    }
   ],
   "source": [
    "data.describe()"
   ]
  },
  {
   "cell_type": "code",
   "execution_count": 34,
   "id": "98c30ca2-f235-4fa7-a9d5-2fb23f4950b9",
   "metadata": {},
   "outputs": [
    {
     "data": {
      "text/plain": [
       "numpy.float64"
      ]
     },
     "execution_count": 34,
     "metadata": {},
     "output_type": "execute_result"
    }
   ],
   "source": [
    "publications_data = data[\"NUMBER_PUBLICATIONS\"]\n",
    "x = publications_data.mean()\n",
    "type(x)"
   ]
  },
  {
   "cell_type": "code",
   "execution_count": 36,
   "id": "851583ef-e63e-44ac-bab4-4aeba6f27e0a",
   "metadata": {},
   "outputs": [
    {
     "data": {
      "text/plain": [
       "pandas.core.series.Series"
      ]
     },
     "execution_count": 36,
     "metadata": {},
     "output_type": "execute_result"
    }
   ],
   "source": [
    "type(publications_data) "
   ]
  },
  {
   "cell_type": "code",
   "execution_count": 37,
   "id": "66a105f5-bf6c-4d35-ac17-8620178a9e26",
   "metadata": {},
   "outputs": [
    {
     "data": {
      "text/plain": [
       "pandas.core.frame.DataFrame"
      ]
     },
     "execution_count": 37,
     "metadata": {},
     "output_type": "execute_result"
    }
   ],
   "source": [
    "type(data)"
   ]
  },
  {
   "cell_type": "code",
   "execution_count": 38,
   "id": "919b2e1a-9011-44ef-abaf-b50575a9d0b1",
   "metadata": {},
   "outputs": [
    {
     "data": {
      "text/plain": [
       "count    1.538273e+06\n",
       "mean     1.150170e+01\n",
       "std      3.563888e+01\n",
       "min     -1.000000e+00\n",
       "25%      1.000000e+00\n",
       "50%      2.000000e+00\n",
       "75%      6.000000e+00\n",
       "max      2.211000e+03\n",
       "Name: NUMBER_PUBLICATIONS, dtype: float64"
      ]
     },
     "execution_count": 38,
     "metadata": {},
     "output_type": "execute_result"
    }
   ],
   "source": [
    "publications_data.mean()\n",
    "publications_data.median()\n",
    "publications_data.min()\n",
    "publications_data.max()\n",
    "stats = publications_data.describe()\n",
    "stats"
   ]
  },
  {
   "cell_type": "code",
   "execution_count": 39,
   "id": "13ffcd4d-a589-4e24-8457-6e9bbe045c4f",
   "metadata": {},
   "outputs": [
    {
     "data": {
      "text/plain": [
       "1.0"
      ]
     },
     "execution_count": 39,
     "metadata": {},
     "output_type": "execute_result"
    }
   ],
   "source": [
    "lower_quartile = stats[\"25%\"]\n",
    "lower_quartile"
   ]
  },
  {
   "cell_type": "code",
   "execution_count": 40,
   "id": "0ddbbcd0-247b-4bc6-8846-d5e2736a3b37",
   "metadata": {},
   "outputs": [
    {
     "data": {
      "text/plain": [
       "6.0"
      ]
     },
     "execution_count": 40,
     "metadata": {},
     "output_type": "execute_result"
    }
   ],
   "source": [
    "upper_quartile = stats[\"75%\"]\n",
    "upper_quartile"
   ]
  },
  {
   "cell_type": "code",
   "execution_count": 41,
   "id": "11e5f1f1-274e-4e08-b73a-44deddfa4ccf",
   "metadata": {},
   "outputs": [
    {
     "data": {
      "image/png": "[encoded data removed]",
      "text/plain": [
       "<Figure size 800x600 with 1 Axes>"
      ]
     },
     "metadata": {},
     "output_type": "display_data"
    }
   ],
   "source": [
    "plt.figure(figsize=(8, 6))\n",
    "plt.boxplot(publications_data, vert=False)\n",
    "plt.title('Box Plot of Publication Number Distribution')\n",
    "plt.ylabel('Publication Numbers')\n",
    "plt.xlabel('Frequency')\n",
    "plt.grid(True)\n",
    "plt.show()"
   ]
  },
  {
   "cell_type": "code",
   "execution_count": null,
   "id": "0d9fc3b9-44eb-491c-b4d0-72c2f9be9e55",
   "metadata": {},
   "outputs": [],
   "source": []
  },
  {
   "cell_type": "code",
   "execution_count": null,
   "id": "9034fc29-6532-4ea7-9f8b-c1cc33e55951",
   "metadata": {},
   "outputs": [],
   "source": []
  },
  {
   "cell_type": "code",
   "execution_count": 5,
   "id": "907bd085-feac-48d8-91ce-00b34b5e62ad",
   "metadata": {},
   "outputs": [
    {
     "name": "stdout",
     "output_type": "stream",
     "text": [
      "Requirement already satisfied: plotly in /opt/anaconda3/lib/python3.11/site-packages (5.9.0)\n",
      "Requirement already satisfied: tenacity>=6.2.0 in /opt/anaconda3/lib/python3.11/site-packages (from plotly) (8.2.2)\n",
      "Note: you may need to restart the kernel to use updated packages.\n"
     ]
    }
   ],
   "source": [
    "pip install plotly"
   ]
  },
  {
   "cell_type": "code",
   "execution_count": 6,
   "id": "f81a9bc7-79bf-410c-85f3-8555c3e4e5c4",
   "metadata": {},
   "outputs": [],
   "source": [
    "import plotly.express as px\n"
   ]
  },
  {
   "cell_type": "code",
   "execution_count": 13,
   "id": "489c8e97-3e19-44f1-b94b-52e0e5e1a82a",
   "metadata": {},
   "outputs": [
    {
     "name": "stdout",
     "output_type": "stream",
     "text": [
      "Result=  11.501696382891723\n"
     ]
    }
   ],
   "source": [
    "avg_Publication = df['NUMBER_PUBLICATIONS'].mean()\n",
    "print(\"Result= \",avg_Publication)"
   ]
  },
  {
   "cell_type": "code",
   "execution_count": 17,
   "id": "9e1e0895-11bc-45f9-a6a0-e5e544d37c80",
   "metadata": {},
   "outputs": [
    {
     "data": {
      "text/plain": [
       "<Figure size 1000x800 with 0 Axes>"
      ]
     },
     "execution_count": 17,
     "metadata": {},
     "output_type": "execute_result"
    },
    {
     "data": {
      "text/plain": [
       "<Figure size 1000x800 with 0 Axes>"
      ]
     },
     "metadata": {},
     "output_type": "display_data"
    }
   ],
   "source": [
    "#Task 2a (a) Draw a histogram of the publication number distribution. Choose suitable bins for the x-axis. Briefly explain your choice of bins.\n",
    "\n",
    "plt.figure(figsize=(10,8))"
   ]
  },
  {
   "cell_type": "code",
   "execution_count": 18,
   "id": "dabaefd9-8bc3-457a-b2b3-fbd941c2e1b5",
   "metadata": {},
   "outputs": [
    {
     "data": {
      "text/plain": [
       "(array([1.502559e+06, 2.740200e+04, 5.463000e+03, 1.571000e+03,\n",
       "        6.500000e+02, 2.910000e+02, 1.400000e+02, 8.200000e+01,\n",
       "        3.200000e+01, 3.400000e+01, 1.600000e+01, 1.800000e+01,\n",
       "        8.000000e+00, 2.000000e+00, 2.000000e+00, 2.000000e+00,\n",
       "        0.000000e+00, 0.000000e+00, 0.000000e+00, 1.000000e+00]),\n",
       " array([-1.0000e+00,  1.0960e+02,  2.2020e+02,  3.3080e+02,  4.4140e+02,\n",
       "         5.5200e+02,  6.6260e+02,  7.7320e+02,  8.8380e+02,  9.9440e+02,\n",
       "         1.1050e+03,  1.2156e+03,  1.3262e+03,  1.4368e+03,  1.5474e+03,\n",
       "         1.6580e+03,  1.7686e+03,  1.8792e+03,  1.9898e+03,  2.1004e+03,\n",
       "         2.2110e+03]),\n",
       " <BarContainer object of 20 artists>)"
      ]
     },
     "execution_count": 18,
     "metadata": {},
     "output_type": "execute_result"
    },
    {
     "data": {
      "image/png": "[encoded data removed]",
      "text/plain": [
       "<Figure size 640x480 with 1 Axes>"
      ]
     },
     "metadata": {},
     "output_type": "display_data"
    }
   ],
   "source": [
    "plt.hist(df['NUMBER_PUBLICATIONS'], bins=20, color='green')"
   ]
  },
  {
   "cell_type": "code",
   "execution_count": 19,
   "id": "9a3878c2-5131-4e38-bb52-394e819e1bb9",
   "metadata": {},
   "outputs": [
    {
     "data": {
      "text/plain": [
       "(array([1.502559e+06, 2.740200e+04, 5.463000e+03, 1.571000e+03,\n",
       "        6.500000e+02, 2.910000e+02, 1.400000e+02, 8.200000e+01,\n",
       "        3.200000e+01, 3.400000e+01, 1.600000e+01, 1.800000e+01,\n",
       "        8.000000e+00, 2.000000e+00, 2.000000e+00, 2.000000e+00,\n",
       "        0.000000e+00, 0.000000e+00, 0.000000e+00, 1.000000e+00]),\n",
       " array([-1.0000e+00,  1.0960e+02,  2.2020e+02,  3.3080e+02,  4.4140e+02,\n",
       "         5.5200e+02,  6.6260e+02,  7.7320e+02,  8.8380e+02,  9.9440e+02,\n",
       "         1.1050e+03,  1.2156e+03,  1.3262e+03,  1.4368e+03,  1.5474e+03,\n",
       "         1.6580e+03,  1.7686e+03,  1.8792e+03,  1.9898e+03,  2.1004e+03,\n",
       "         2.2110e+03]),\n",
       " <BarContainer object of 20 artists>)"
      ]
     },
     "execution_count": 19,
     "metadata": {},
     "output_type": "execute_result"
    },
    {
     "data": {
      "image/png": "[encoded data removed]",
      "text/plain": [
       "<Figure size 640x480 with 1 Axes>"
      ]
     },
     "metadata": {},
     "output_type": "display_data"
    }
   ],
   "source": [
    "plt.hist(df['NUMBER_PUBLICATIONS'], bins=20, color='green',edgecolor='black')"
   ]
  },
  {
   "cell_type": "code",
   "execution_count": 20,
   "id": "3b457d53-59be-485c-9fb9-9a0fdbb4e9e6",
   "metadata": {},
   "outputs": [],
   "source": [
    "# labeling"
   ]
  },
  {
   "cell_type": "code",
   "execution_count": 21,
   "id": "4517cad2-4507-4c44-8cb2-272d09627378",
   "metadata": {},
   "outputs": [
    {
     "data": {
      "text/plain": [
       "Text(0, 0.5, 'Frequency')"
      ]
     },
     "execution_count": 21,
     "metadata": {},
     "output_type": "execute_result"
    },
    {
     "data": {
      "image/png": "[encoded data removed]",
      "text/plain": [
       "<Figure size 640x480 with 1 Axes>"
      ]
     },
     "metadata": {},
     "output_type": "display_data"
    }
   ],
   "source": [
    "plt.xlabel('Number of Publications')\n",
    "plt.ylabel('Frequency')"
   ]
  },
  {
   "cell_type": "code",
   "execution_count": 22,
   "id": "a79fb54a-15fb-4dd5-9292-b745de112bf5",
   "metadata": {},
   "outputs": [
    {
     "data": {
      "image/png": "[encoded data removed]",
      "text/plain": [
       "<Figure size 640x480 with 1 Axes>"
      ]
     },
     "metadata": {},
     "output_type": "display_data"
    }
   ],
   "source": [
    "plt.title('Publication Number Distribution')\n",
    "plt.grid(True)"
   ]
  },
  {
   "cell_type": "code",
   "execution_count": 23,
   "id": "5e598b5a-10c6-47b1-ad46-604907942a38",
   "metadata": {},
   "outputs": [
    {
     "data": {
      "text/plain": [
       "(array([1.502559e+06, 2.740200e+04, 5.463000e+03, 1.571000e+03,\n",
       "        6.500000e+02, 2.910000e+02, 1.400000e+02, 8.200000e+01,\n",
       "        3.200000e+01, 3.400000e+01, 1.600000e+01, 1.800000e+01,\n",
       "        8.000000e+00, 2.000000e+00, 2.000000e+00, 2.000000e+00,\n",
       "        0.000000e+00, 0.000000e+00, 0.000000e+00, 1.000000e+00]),\n",
       " array([-1.0000e+00,  1.0960e+02,  2.2020e+02,  3.3080e+02,  4.4140e+02,\n",
       "         5.5200e+02,  6.6260e+02,  7.7320e+02,  8.8380e+02,  9.9440e+02,\n",
       "         1.1050e+03,  1.2156e+03,  1.3262e+03,  1.4368e+03,  1.5474e+03,\n",
       "         1.6580e+03,  1.7686e+03,  1.8792e+03,  1.9898e+03,  2.1004e+03,\n",
       "         2.2110e+03]),\n",
       " <BarContainer object of 20 artists>)"
      ]
     },
     "execution_count": 23,
     "metadata": {},
     "output_type": "execute_result"
    },
    {
     "data": {
      "image/png": "[encoded data removed]",
      "text/plain": [
       "<Figure size 640x480 with 1 Axes>"
      ]
     },
     "metadata": {},
     "output_type": "display_data"
    }
   ],
   "source": [
    "plt.hist(df['NUMBER_PUBLICATIONS'], bins=20, color='green',edgecolor='black')"
   ]
  },
  {
   "cell_type": "code",
   "execution_count": 25,
   "id": "a50c9086-b92f-4df0-8440-093cfd76a1a0",
   "metadata": {},
   "outputs": [
    {
     "data": {
      "image/png": "[encoded data removed]",
      "text/plain": [
       "<Figure size 1000x800 with 1 Axes>"
      ]
     },
     "metadata": {},
     "output_type": "display_data"
    }
   ],
   "source": [
    "plt.figure(figsize=(10,8))\n",
    "plt.hist(df['NUMBER_PUBLICATIONS'], bins=20, color='green',edgecolor='black')\n",
    "plt.xlabel('Number of Publications')\n",
    "plt.ylabel('Frequency')\n",
    "plt.title('Publication Number Distribution')\n",
    "plt.grid(True)\n",
    "plt.show()"
   ]
  },
  {
   "cell_type": "code",
   "execution_count": 27,
   "id": "2652a094-e1db-4a44-966f-616993f115aa",
   "metadata": {},
   "outputs": [
    {
     "data": {
      "text/plain": [
       "'\\n#Answer: Two Classes that needs to be filtered out are as follows:\\nclass 1: Publication having null(zero) or negative number\\nclass 2: Publications which are extremely high in numbers which may overpower the whole analysis\\n\\nMotivation: The result with 0 or negative numbers or extremely high number will result in erroneous data entries and and also respresent outliers .\\nSize: class1- Total data with 0 or negative number of publication\\n      class2- Total data having very high number of publication\\n\\nInfluence: Discarding these classes would affect the mean and median values, potentially lowering them and  also help in providing a more accurate representation of the typical number of publications per scientist.\\n\\n'"
      ]
     },
     "execution_count": 27,
     "metadata": {},
     "output_type": "execute_result"
    }
   ],
   "source": [
    "#Answer: 20bins are the most common case in visualising a data\n",
    "'''\n",
    "(b) Determine at least two classes of publication numbers that need to be filtered out. A class is a set of lines from the CSV file that is discarded because of a common property. For each class:\n",
    "• Motivate your choice in a short description. In particular, describe how this class manifests in statistical data/visualizations-\n",
    "• Name the size of the class (in number of data points) and an example.\n",
    "• Describe the influence of the discarded classes on the overall result. (How do statistical properties change. In particular, how does discarding data affect the answer to the research question.\n",
    "'''\n",
    "'''\n",
    "#Answer: Two Classes that needs to be filtered out are as follows:\n",
    "class 1: Publication having null(zero) or negative number\n",
    "class 2: Publications which are extremely high in numbers which may overpower the whole analysis\n",
    "\n",
    "Motivation: The result with 0 or negative numbers or extremely high number will result in erroneous data entries and and also respresent outliers .\n",
    "Size: class1- Total data with 0 or negative number of publication\n",
    "      class2- Total data having very high number of publication\n",
    "\n",
    "Influence: Discarding these classes would affect the mean and median values, potentially lowering them and  also help in providing a more accurate representation of the typical number of publications per scientist.\n",
    "\n",
    "'''"
   ]
  },
  {
   "cell_type": "code",
   "execution_count": null,
   "id": "7b67d272-9173-4186-b330-abc42a372ae5",
   "metadata": {},
   "outputs": [],
   "source": []
  }
 ],
 "metadata": {
  "kernelspec": {
   "display_name": "Python 3 (ipykernel)",
   "language": "python",
   "name": "python3"
  },
  "language_info": {
   "codemirror_mode": {
    "name": "ipython",
    "version": 3
   },
   "file_extension": ".py",
   "mimetype": "text/x-python",
   "name": "python",
   "nbconvert_exporter": "python",
   "pygments_lexer": "ipython3",
   "version": "3.11.7"
  }
 },
 "nbformat": 4,
 "nbformat_minor": 5
}
